{
 "cells": [
  {
   "cell_type": "code",
   "execution_count": 1,
   "metadata": {},
   "outputs": [],
   "source": [
    "import numpy as np\n",
    "import matplotlib.pyplot as plt"
   ]
  },
  {
   "cell_type": "code",
   "execution_count": 99,
   "metadata": {},
   "outputs": [
    {
     "name": "stdout",
     "output_type": "stream",
     "text": [
      "{5: 1083, 4: 1043, 6: 4843, 3: 1070, 1: 921, 2: 1040}\n"
     ]
    }
   ],
   "source": [
    "# generate the data\n",
    "BASE = [1, 2, 3, 4, 5, 6]\n",
    "def sample(threshold=0.4, n_samples=10000, seed=0):\n",
    "    np.random.seed(seed)\n",
    "    x = []\n",
    "    for i in range(n_samples):\n",
    "        if np.random.uniform(0, 1) < threshold:\n",
    "            x.append(np.random.choice(BASE, p=[0.01, 0.05, 0.05, 0.05, 0.05, 0.79]))\n",
    "        else:\n",
    "            x.append(np.random.choice(BASE, p=[1/6, 1/6, 1/6, 1/6, 1/6, 1/6]))\n",
    "    count = {}\n",
    "    for data in x:\n",
    "        if data not in count.keys():\n",
    "            count[data] = 1\n",
    "        else:\n",
    "            count[data] += 1\n",
    "    return x, count\n",
    "\n",
    "data, count = sample()\n",
    "print(count)"
   ]
  },
  {
   "cell_type": "code",
   "execution_count": 5,
   "metadata": {},
   "outputs": [],
   "source": [
    "init_para = {'w_11': 1/6, 'w_21': 1/6, 'w_31': 1/6, 'w_41': 1/6, 'w_51': 1/6, 'w_61': 1/6,\n",
    "             'w_12': 1/6, 'w_22': 1/6, 'w_32': 1/6, 'w_42': 1/6, 'w_52': 1/6, 'w_62': 1/6,\n",
    "             'pi_1': 1/2, 'pi_2': 1/2}"
   ]
  },
  {
   "cell_type": "code",
   "execution_count": 14,
   "metadata": {},
   "outputs": [],
   "source": [
    "post_para = {'z_11': 1/2, 'z_21': 1/2, 'z_31': 1/2, 'z_41': 1/2, 'z_51': 1/2, 'z_61': 1/2,\n",
    "             'z_12': 1/2, 'z_22': 1/2, 'z_32': 1/2, 'z_42': 1/2, 'z_52': 1/2, 'z_62': 1/2}"
   ]
  },
  {
   "cell_type": "code",
   "execution_count": 48,
   "metadata": {},
   "outputs": [],
   "source": [
    "def compute_post(post_, prior_):\n",
    "    for z_ik in post_.keys():\n",
    "        i, k = z_ik[-2], z_ik[-1]\n",
    "        w_ik = 'w_' + i + k     \n",
    "        pi_k = 'pi_' + k\n",
    "        \n",
    "        # z_ik = pi_k * w_ik / (pi_1 * w_i1 + pi_2 * w_i2)\n",
    "        post_[z_ik] = prior_[pi_k] * prior_[w_ik] / (prior_['pi_1']*prior_['w_' + i + '1'] + prior_['pi_2']*prior_['w_'+i+'2'])\n",
    "    \n",
    "    return post_"
   ]
  },
  {
   "cell_type": "code",
   "execution_count": 52,
   "metadata": {},
   "outputs": [
    {
     "name": "stdout",
     "output_type": "stream",
     "text": [
      "{'z_11': 0.4545454545454545, 'z_21': 0.625, 'z_31': 0.4545454545454545, 'z_41': 0.3571428571428571, 'z_51': 0.625, 'z_61': 0.625, 'z_12': 0.5454545454545454, 'z_22': 0.375, 'z_32': 0.5454545454545454, 'z_42': 0.6428571428571428, 'z_52': 0.375, 'z_62': 0.375}\n"
     ]
    }
   ],
   "source": [
    "init_prior = {'w_11': 1/6, 'w_21': 1/6, 'w_31': 1/6, 'w_41': 1/6, 'w_51': 1/6, 'w_61': 1/6,\n",
    "             'w_12': 0.2, 'w_22': 0.1, 'w_32': 0.2, 'w_42': 0.3, 'w_52': 0.1, 'w_62': 0.1,\n",
    "             'pi_1': 1/2, 'pi_2': 1/2}\n",
    "print(compute_post(post_para, init_prior))"
   ]
  },
  {
   "cell_type": "code",
   "execution_count": 31,
   "metadata": {},
   "outputs": [],
   "source": [
    "def compute_prior(post_, prior_, count):\n",
    "    # compute normalize const N_k\n",
    "    # N_k = sum_i (n_i * z_ik)\n",
    "    normalize_const = {}\n",
    "    for k in range(1, 3):\n",
    "        N_k = 'N_' + str(k)\n",
    "        normalize_const[N_k] = 0\n",
    "        for i in range(1, 7):\n",
    "            z_ik = 'z_' + str(i) + str(k)\n",
    "            normalize_const[N_k] += count[i] * post_[z_ik] \n",
    "    # compute w_ik and pi_k\n",
    "    for key in prior_.keys():\n",
    "        # compute w_ik\n",
    "        if 'w' in key:\n",
    "            w_ik = key\n",
    "            i, k = w_ik[-2], w_ik[-1]\n",
    "            z_ik = 'z_' + i + k\n",
    "            N_k = 'N_' + k\n",
    "            # w_ik = n_i * z_ik / N_k\n",
    "            prior_[w_ik] = count[int(i)] * post_[z_ik] / normalize_const[N_k]\n",
    "        # compute the pi_k\n",
    "        else:\n",
    "            pi_k = key\n",
    "            k = pi_k[-1]\n",
    "            N_k = 'N_' + k\n",
    "            # pi_k = N_k / sum_k(N_k)\n",
    "            prior_[pi_k] = normalize_const[N_k] / (normalize_const['N_1'] + normalize_const['N_2'])\n",
    "    \n",
    "    return prior_"
   ]
  },
  {
   "cell_type": "code",
   "execution_count": 53,
   "metadata": {},
   "outputs": [
    {
     "name": "stdout",
     "output_type": "stream",
     "text": [
      "{'w_11': 0.13798715006179327, 'w_21': 0.19351515663260999, 'w_31': 0.13532197769299853, 'w_41': 0.10618931014101154, 'w_51': 0.18642235919952715, 'w_61': 0.24056404627205943, 'w_12': 0.18575525071688753, 'w_22': 0.13025291275930662, 'w_32': 0.1821674545971221, 'w_42': 0.2144245524296675, 'w_52': 0.12547882921284456, 'w_62': 0.16192100028417164, 'pi_1': 0.5287053571428572, 'pi_2': 0.47129464285714284}\n"
     ]
    }
   ],
   "source": [
    "post_ = {'z_11': 0.4545454545454545, 'z_21': 0.625, 'z_31': 0.4545454545454545, 'z_41': 0.3571428571428571, 'z_51': 0.625, 'z_61': 0.625, 'z_12': 0.5454545454545454, 'z_22': 0.375, 'z_32': 0.5454545454545454, 'z_42': 0.6428571428571428, 'z_52': 0.375, 'z_62': 0.375}\n",
    "print(compute_prior(post_, init_para, count))\n",
    "del post_"
   ]
  },
  {
   "cell_type": "code",
   "execution_count": 95,
   "metadata": {},
   "outputs": [],
   "source": [
    "def check_prior(prior_):\n",
    "    w_1_sum, w_2_sum, pi_sum = 0, 0, 0\n",
    "    for i in range(1, 7):\n",
    "        w_1_sum += prior_['w_'+ str(i) + '1']\n",
    "        w_2_sum += prior_['w_'+ str(i) + '2']\n",
    "    pi_sum = prior_['pi_1'] + prior_['pi_2']\n",
    "    assert (w_1_sum - 1) < 1e-5, \"w_1_sum: \" + str(w_1_sum)\n",
    "    assert (w_2_sum - 1) < 1e-5, \"w_2_sum: \" + str(w_2_sum)\n",
    "    assert (pi_sum - 1)  < 1e-5 , \"pi_sum: \"  + str(pi_sum)"
   ]
  },
  {
   "cell_type": "code",
   "execution_count": 96,
   "metadata": {},
   "outputs": [],
   "source": [
    "def check_post(post_):\n",
    "    z1_sum = post_['z_11'] + post_['z_12']\n",
    "    z2_sum = post_['z_21'] + post_['z_22']\n",
    "    assert (z1_sum - 1) < 1e-5, \"z1_sum: \" + str(z1_sum)\n",
    "    assert (z2_sum - 1) < 1e-5, \"z2_sum: \" + str(z2_sum)"
   ]
  },
  {
   "cell_type": "code",
   "execution_count": 104,
   "metadata": {},
   "outputs": [],
   "source": [
    "def mix_multi_model(count, init_prior=None, init_post=None, epochs=100, epsilon=1e-3):\n",
    "    ### init parameter \n",
    "    ### Please do not give symmetric parameter\n",
    "    if init_prior is None:\n",
    "        prior_para = {'w_11': 0.1, 'w_21': 0.2, 'w_31': 0.2, 'w_41': 0.1, 'w_51': 0.3, 'w_61': 0.1,\n",
    "                      'w_12': 0.01, 'w_22': 0.05, 'w_32': 0.05, 'w_42': 0.05, 'w_52': 0.05, 'w_62': 0.79,\n",
    "                      'pi_1': 0.3,  'pi_2': 0.7 }\n",
    "    else:\n",
    "        prior_para = init_prior\n",
    "    if init_post is None:\n",
    "        post_para = {'z_11': 0.7, 'z_21': 0.7, 'z_31': 0.6, 'z_41': 0.6, 'z_51': 0.6, 'z_61': 0.1,\n",
    "                     'z_12': 0.3, 'z_22': 0.3, 'z_32': 0.4, 'z_42': 0.4, 'z_52': 0.4, 'z_62': 0.9}\n",
    "    else:\n",
    "        post_para = init_post\n",
    "    \n",
    "    for i_epoch in range(epochs):\n",
    "        ### copy parameter to determine convergency\n",
    "        post_copy = post_para.copy()\n",
    "        prior_copy = prior_para.copy()\n",
    "        \n",
    "        ### step 1\n",
    "        ### compute the post parameter\n",
    "        try:\n",
    "            post_para = compute_post(post_para, prior_para)\n",
    "        except Exception as e:\n",
    "            if i == 0:\n",
    "                print(\"*\"*40)\n",
    "                print(\"输入参数有误!请检查参数是否符合概率定义(for user)\")\n",
    "                print(\"*\"*40)\n",
    "            else:\n",
    "                print(\"*\"*40)\n",
    "                print(\"模型计算有误!(for developer)\")\n",
    "                print(\"*\"*40)\n",
    "            print(e)\n",
    "            return prior_para, post_para\n",
    "        \n",
    "        ### step 2\n",
    "        ### under the post parameter, compute the optimal prior parameter\n",
    "        try:\n",
    "            prior_para = compute_prior(post_para, prior_para, count)\n",
    "        except Exception as e:\n",
    "            if i == 0:\n",
    "                print(\"*\"*40)\n",
    "                print(\"输入参数有误!请检查参数是否符合概率定义(for user)\")\n",
    "                print(\"*\"*40)\n",
    "            else:\n",
    "                print(\"*\"*40)\n",
    "                print(\"模型计算有误!(for developer)\")\n",
    "                print(\"*\"*40)\n",
    "            print(e)\n",
    "            return prior_para, post_para\n",
    "        \n",
    "        ### step 3\n",
    "        ### check out \n",
    "        check_prior(prior_para)\n",
    "        check_post(post_para)\n",
    "        \n",
    "        ### step 4\n",
    "        ### compute the difference of pi_k\n",
    "        diff = 0\n",
    "        for key in prior_para.keys():\n",
    "            diff += abs(prior_para[key] - prior_copy[key])\n",
    "        # if i_epoch % 10 == 0:\n",
    "        print(\"{}/{} ---> diff: {}\".format(i_epoch, epochs, diff))\n",
    "        \n",
    "        if False:\n",
    "            print(\"{}/{} ---> diff: {}\".format(i_epoch, epochs, diff))\n",
    "            print(\"训练结束, 参数收敛!\")\n",
    "            return prior_para, post_para\n",
    "    return prior_para, post_para"
   ]
  },
  {
   "cell_type": "code",
   "execution_count": 105,
   "metadata": {},
   "outputs": [
    {
     "name": "stdout",
     "output_type": "stream",
     "text": [
      "0/100 ---> diff: 0.5543257784134089\n",
      "1/100 ---> diff: 7.632783294297951e-17\n",
      "2/100 ---> diff: 4.85722573273506e-17\n",
      "3/100 ---> diff: 3.469446951953614e-17\n",
      "4/100 ---> diff: 0.0\n",
      "5/100 ---> diff: 0.0\n",
      "6/100 ---> diff: 0.0\n",
      "7/100 ---> diff: 0.0\n",
      "8/100 ---> diff: 0.0\n",
      "9/100 ---> diff: 0.0\n",
      "10/100 ---> diff: 0.0\n",
      "11/100 ---> diff: 0.0\n",
      "12/100 ---> diff: 0.0\n",
      "13/100 ---> diff: 0.0\n",
      "14/100 ---> diff: 0.0\n",
      "15/100 ---> diff: 0.0\n",
      "16/100 ---> diff: 0.0\n",
      "17/100 ---> diff: 0.0\n",
      "18/100 ---> diff: 0.0\n",
      "19/100 ---> diff: 0.0\n",
      "20/100 ---> diff: 0.0\n",
      "21/100 ---> diff: 0.0\n",
      "22/100 ---> diff: 0.0\n",
      "23/100 ---> diff: 0.0\n",
      "24/100 ---> diff: 0.0\n",
      "25/100 ---> diff: 0.0\n",
      "26/100 ---> diff: 0.0\n",
      "27/100 ---> diff: 0.0\n",
      "28/100 ---> diff: 0.0\n",
      "29/100 ---> diff: 0.0\n",
      "30/100 ---> diff: 0.0\n",
      "31/100 ---> diff: 0.0\n",
      "32/100 ---> diff: 0.0\n",
      "33/100 ---> diff: 0.0\n",
      "34/100 ---> diff: 0.0\n",
      "35/100 ---> diff: 0.0\n",
      "36/100 ---> diff: 0.0\n",
      "37/100 ---> diff: 0.0\n",
      "38/100 ---> diff: 0.0\n",
      "39/100 ---> diff: 0.0\n",
      "40/100 ---> diff: 0.0\n",
      "41/100 ---> diff: 0.0\n",
      "42/100 ---> diff: 0.0\n",
      "43/100 ---> diff: 0.0\n",
      "44/100 ---> diff: 0.0\n",
      "45/100 ---> diff: 0.0\n",
      "46/100 ---> diff: 0.0\n",
      "47/100 ---> diff: 0.0\n",
      "48/100 ---> diff: 0.0\n",
      "49/100 ---> diff: 0.0\n",
      "50/100 ---> diff: 0.0\n",
      "51/100 ---> diff: 0.0\n",
      "52/100 ---> diff: 0.0\n",
      "53/100 ---> diff: 0.0\n",
      "54/100 ---> diff: 0.0\n",
      "55/100 ---> diff: 0.0\n",
      "56/100 ---> diff: 0.0\n",
      "57/100 ---> diff: 0.0\n",
      "58/100 ---> diff: 0.0\n",
      "59/100 ---> diff: 0.0\n",
      "60/100 ---> diff: 0.0\n",
      "61/100 ---> diff: 0.0\n",
      "62/100 ---> diff: 0.0\n",
      "63/100 ---> diff: 0.0\n",
      "64/100 ---> diff: 0.0\n",
      "65/100 ---> diff: 0.0\n",
      "66/100 ---> diff: 0.0\n",
      "67/100 ---> diff: 0.0\n",
      "68/100 ---> diff: 0.0\n",
      "69/100 ---> diff: 0.0\n",
      "70/100 ---> diff: 0.0\n",
      "71/100 ---> diff: 0.0\n",
      "72/100 ---> diff: 0.0\n",
      "73/100 ---> diff: 0.0\n",
      "74/100 ---> diff: 0.0\n",
      "75/100 ---> diff: 0.0\n",
      "76/100 ---> diff: 0.0\n",
      "77/100 ---> diff: 0.0\n",
      "78/100 ---> diff: 0.0\n",
      "79/100 ---> diff: 0.0\n",
      "80/100 ---> diff: 0.0\n",
      "81/100 ---> diff: 0.0\n",
      "82/100 ---> diff: 0.0\n",
      "83/100 ---> diff: 0.0\n",
      "84/100 ---> diff: 0.0\n",
      "85/100 ---> diff: 0.0\n",
      "86/100 ---> diff: 0.0\n",
      "87/100 ---> diff: 0.0\n",
      "88/100 ---> diff: 0.0\n",
      "89/100 ---> diff: 0.0\n",
      "90/100 ---> diff: 0.0\n",
      "91/100 ---> diff: 0.0\n",
      "92/100 ---> diff: 0.0\n",
      "93/100 ---> diff: 0.0\n",
      "94/100 ---> diff: 0.0\n",
      "95/100 ---> diff: 0.0\n",
      "96/100 ---> diff: 0.0\n",
      "97/100 ---> diff: 0.0\n",
      "98/100 ---> diff: 0.0\n",
      "99/100 ---> diff: 0.0\n",
      "{'w_11': 0.20802507687739386, 'w_21': 0.18297742632703842, 'w_31': 0.18825562131724147, 'w_41': 0.13409998733442755, 'w_51': 0.21721883662681565, 'w_61': 0.06942305151708297, 'w_12': 0.027181947383634053, 'w_22': 0.0597726347403988, 'w_32': 0.061496845357910314, 'w_42': 0.08761200463391146, 'w_52': 0.04730544250204559, 'w_62': 0.7166311253820998, 'pi_1': 0.35897439287902844, 'pi_2': 0.6410256071209716}\n",
      "{'z_11': 0.8108108108108109, 'z_21': 0.6315789473684209, 'z_31': 0.6315789473684209, 'z_41': 0.46153846153846145, 'z_51': 0.7200000000000001, 'z_61': 0.051457975986277875, 'z_12': 0.18918918918918917, 'z_22': 0.36842105263157904, 'z_32': 0.36842105263157904, 'z_42': 0.5384615384615384, 'z_52': 0.27999999999999986, 'z_62': 0.9485420240137221}\n"
     ]
    }
   ],
   "source": [
    "prior_para, post_para = mix_multi_model(count)\n",
    "print(prior_para)\n",
    "print(post_para)"
   ]
  },
  {
   "cell_type": "code",
   "execution_count": null,
   "metadata": {},
   "outputs": [],
   "source": []
  }
 ],
 "metadata": {
  "kernelspec": {
   "display_name": "Python 3",
   "language": "python",
   "name": "python3"
  },
  "language_info": {
   "codemirror_mode": {
    "name": "ipython",
    "version": 3
   },
   "file_extension": ".py",
   "mimetype": "text/x-python",
   "name": "python",
   "nbconvert_exporter": "python",
   "pygments_lexer": "ipython3",
   "version": "3.6.4"
  }
 },
 "nbformat": 4,
 "nbformat_minor": 2
}
